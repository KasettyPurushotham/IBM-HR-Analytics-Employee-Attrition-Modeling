{
 "cells": [
  {
   "cell_type": "code",
   "execution_count": 3,
   "metadata": {},
   "outputs": [],
   "source": [
    "# importing the required libraries\n",
    "\n",
    "\n",
    "import pandas as pd\n",
    "import numpy as np\n",
    "import seaborn as sns\n",
    "import  matplotlib.pyplot as plt\n",
    "%matplotlib inline\n",
    "import sklearn\n",
    "from patsy import dmatrices"
   ]
  },
  {
   "cell_type": "code",
   "execution_count": 4,
   "metadata": {},
   "outputs": [
    {
     "data": {
      "text/html": [
       "<div>\n",
       "<style scoped>\n",
       "    .dataframe tbody tr th:only-of-type {\n",
       "        vertical-align: middle;\n",
       "    }\n",
       "\n",
       "    .dataframe tbody tr th {\n",
       "        vertical-align: top;\n",
       "    }\n",
       "\n",
       "    .dataframe thead th {\n",
       "        text-align: right;\n",
       "    }\n",
       "</style>\n",
       "<table border=\"1\" class=\"dataframe\">\n",
       "  <thead>\n",
       "    <tr style=\"text-align: right;\">\n",
       "      <th></th>\n",
       "      <th>Age</th>\n",
       "      <th>Attrition</th>\n",
       "      <th>Department</th>\n",
       "      <th>DistanceFromHome</th>\n",
       "      <th>Education</th>\n",
       "      <th>EducationField</th>\n",
       "      <th>EnvironmentSatisfaction</th>\n",
       "      <th>JobSatisfaction</th>\n",
       "      <th>MaritalStatus</th>\n",
       "      <th>MonthlyIncome</th>\n",
       "      <th>NumCompaniesWorked</th>\n",
       "      <th>WorkLifeBalance</th>\n",
       "      <th>YearsAtCompany</th>\n",
       "    </tr>\n",
       "  </thead>\n",
       "  <tbody>\n",
       "    <tr>\n",
       "      <th>0</th>\n",
       "      <td>41</td>\n",
       "      <td>Yes</td>\n",
       "      <td>Sales</td>\n",
       "      <td>1</td>\n",
       "      <td>2</td>\n",
       "      <td>Life Sciences</td>\n",
       "      <td>2</td>\n",
       "      <td>4</td>\n",
       "      <td>Single</td>\n",
       "      <td>5993</td>\n",
       "      <td>8</td>\n",
       "      <td>1</td>\n",
       "      <td>6</td>\n",
       "    </tr>\n",
       "    <tr>\n",
       "      <th>1</th>\n",
       "      <td>49</td>\n",
       "      <td>No</td>\n",
       "      <td>Research &amp; Development</td>\n",
       "      <td>8</td>\n",
       "      <td>1</td>\n",
       "      <td>Life Sciences</td>\n",
       "      <td>3</td>\n",
       "      <td>2</td>\n",
       "      <td>Married</td>\n",
       "      <td>5130</td>\n",
       "      <td>1</td>\n",
       "      <td>3</td>\n",
       "      <td>10</td>\n",
       "    </tr>\n",
       "    <tr>\n",
       "      <th>2</th>\n",
       "      <td>37</td>\n",
       "      <td>Yes</td>\n",
       "      <td>Research &amp; Development</td>\n",
       "      <td>2</td>\n",
       "      <td>2</td>\n",
       "      <td>Other</td>\n",
       "      <td>4</td>\n",
       "      <td>3</td>\n",
       "      <td>Single</td>\n",
       "      <td>2090</td>\n",
       "      <td>6</td>\n",
       "      <td>3</td>\n",
       "      <td>0</td>\n",
       "    </tr>\n",
       "    <tr>\n",
       "      <th>3</th>\n",
       "      <td>33</td>\n",
       "      <td>No</td>\n",
       "      <td>Research &amp; Development</td>\n",
       "      <td>3</td>\n",
       "      <td>4</td>\n",
       "      <td>Life Sciences</td>\n",
       "      <td>4</td>\n",
       "      <td>3</td>\n",
       "      <td>Married</td>\n",
       "      <td>2909</td>\n",
       "      <td>1</td>\n",
       "      <td>3</td>\n",
       "      <td>8</td>\n",
       "    </tr>\n",
       "    <tr>\n",
       "      <th>4</th>\n",
       "      <td>27</td>\n",
       "      <td>No</td>\n",
       "      <td>Research &amp; Development</td>\n",
       "      <td>2</td>\n",
       "      <td>1</td>\n",
       "      <td>Medical</td>\n",
       "      <td>1</td>\n",
       "      <td>2</td>\n",
       "      <td>Married</td>\n",
       "      <td>3468</td>\n",
       "      <td>9</td>\n",
       "      <td>3</td>\n",
       "      <td>2</td>\n",
       "    </tr>\n",
       "  </tbody>\n",
       "</table>\n",
       "</div>"
      ],
      "text/plain": [
       "   Age Attrition              Department  DistanceFromHome  Education  \\\n",
       "0   41       Yes                   Sales                 1          2   \n",
       "1   49        No  Research & Development                 8          1   \n",
       "2   37       Yes  Research & Development                 2          2   \n",
       "3   33        No  Research & Development                 3          4   \n",
       "4   27        No  Research & Development                 2          1   \n",
       "\n",
       "  EducationField  EnvironmentSatisfaction  JobSatisfaction MaritalStatus  \\\n",
       "0  Life Sciences                        2                4        Single   \n",
       "1  Life Sciences                        3                2       Married   \n",
       "2          Other                        4                3        Single   \n",
       "3  Life Sciences                        4                3       Married   \n",
       "4        Medical                        1                2       Married   \n",
       "\n",
       "   MonthlyIncome  NumCompaniesWorked  WorkLifeBalance  YearsAtCompany  \n",
       "0           5993                   8                1               6  \n",
       "1           5130                   1                3              10  \n",
       "2           2090                   6                3               0  \n",
       "3           2909                   1                3               8  \n",
       "4           3468                   9                3               2  "
      ]
     },
     "execution_count": 4,
     "metadata": {},
     "output_type": "execute_result"
    }
   ],
   "source": [
    "# reading the data\n",
    "\n",
    "df = pd.read_csv(\"IBM Attrition Data.csv\")\n",
    "df.head()"
   ]
  },
  {
   "cell_type": "code",
   "execution_count": 5,
   "metadata": {},
   "outputs": [
    {
     "data": {
      "image/png": "[encoded data removed]",
      "text/plain": [
       "<Figure size 720x648 with 1 Axes>"
      ]
     },
     "metadata": {
      "needs_background": "light"
     },
     "output_type": "display_data"
    }
   ],
   "source": [
    "#Finding the age distribution of employees in IBM\n",
    "\n",
    "\n",
    "plt.figure(figsize=(10,9))\n",
    "df['Age'].hist(bins=90)\n",
    "plt.title(\"Age distribution\")\n",
    "plt.xlabel(\"Age\")\n",
    "plt.ylabel(\"# of employes\")\n",
    "plt.show()"
   ]
  },
  {
   "cell_type": "code",
   "execution_count": 6,
   "metadata": {},
   "outputs": [
    {
     "data": {
      "image/png": "[encoded data removed]",
      "text/plain": [
       "<Figure size 720x576 with 1 Axes>"
      ]
     },
     "metadata": {
      "needs_background": "light"
     },
     "output_type": "display_data"
    }
   ],
   "source": [
    "# Exploring attrition by age\n",
    "\n",
    "plt.figure(figsize=(10,8))\n",
    "plt.scatter(df.Attrition,df.Age,alpha=.75)\n",
    "plt.title(\"Attrition by Age\")\n",
    "plt.ylabel(\"AGE\")\n",
    "plt.grid(b=True,which='major',axis = 'y')\n",
    "plt.show()"
   ]
  },
  {
   "cell_type": "code",
   "execution_count": 11,
   "metadata": {},
   "outputs": [
    {
     "data": {
      "image/png": "[encoded data removed]",
      "text/plain": [
       "<Figure size 720x576 with 1 Axes>"
      ]
     },
     "metadata": {
      "needs_background": "light"
     },
     "output_type": "display_data"
    }
   ],
   "source": [
    "\n",
    "#Explore data for Left employees\n",
    "\n",
    "\n",
    "plt.figure(figsize=(10,8))\n",
    "df.Attrition.value_counts().plot(kind = 'barh',color = 'green',alpha=.55)\n",
    "plt.title(\"Attriation breakdown\")\n",
    "plt.show()"
   ]
  },
  {
   "cell_type": "code",
   "execution_count": 12,
   "metadata": {},
   "outputs": [
    {
     "data": {
      "image/png": "[encoded data removed]",
      "text/plain": [
       "<Figure size 720x576 with 1 Axes>"
      ]
     },
     "metadata": {
      "needs_background": "light"
     },
     "output_type": "display_data"
    }
   ],
   "source": [
    "# Finding out the distribution of employees by the education field\n",
    "\n",
    "\n",
    "plt.figure(figsize=(10,8))\n",
    "df.EducationField.value_counts().plot(kind = 'barh',color = 'brown',alpha = .67)\n",
    "plt.title(\"Educational field distribution\")\n",
    "plt.show()"
   ]
  },
  {
   "cell_type": "code",
   "execution_count": 13,
   "metadata": {},
   "outputs": [
    {
     "data": {
      "text/plain": [
       "<matplotlib.axes._subplots.AxesSubplot at 0x21bd6abd910>"
      ]
     },
     "execution_count": 13,
     "metadata": {},
     "output_type": "execute_result"
    },
    {
     "data": {
      "image/png": "[encoded data removed]",
      "text/plain": [
       "<Figure size 720x576 with 1 Axes>"
      ]
     },
     "metadata": {
      "needs_background": "light"
     },
     "output_type": "display_data"
    }
   ],
   "source": [
    "#  A bar chart for the number of married and unmarried employees\n",
    "\n",
    "\n",
    "plt.figure(figsize=(10,8))\n",
    "df.MaritalStatus.value_counts().plot(kind = 'bar',color='y',alpha = .66)"
   ]
  },
  {
   "cell_type": "code",
   "execution_count": 10,
   "metadata": {},
   "outputs": [
    {
     "data": {
      "text/html": [
       "<div>\n",
       "<style scoped>\n",
       "    .dataframe tbody tr th:only-of-type {\n",
       "        vertical-align: middle;\n",
       "    }\n",
       "\n",
       "    .dataframe tbody tr th {\n",
       "        vertical-align: top;\n",
       "    }\n",
       "\n",
       "    .dataframe thead th {\n",
       "        text-align: right;\n",
       "    }\n",
       "</style>\n",
       "<table border=\"1\" class=\"dataframe\">\n",
       "  <thead>\n",
       "    <tr style=\"text-align: right;\">\n",
       "      <th></th>\n",
       "      <th>Age</th>\n",
       "      <th>DistanceFromHome</th>\n",
       "      <th>Education</th>\n",
       "      <th>EnvironmentSatisfaction</th>\n",
       "      <th>JobSatisfaction</th>\n",
       "      <th>MonthlyIncome</th>\n",
       "      <th>NumCompaniesWorked</th>\n",
       "      <th>WorkLifeBalance</th>\n",
       "      <th>YearsAtCompany</th>\n",
       "    </tr>\n",
       "  </thead>\n",
       "  <tbody>\n",
       "    <tr>\n",
       "      <th>count</th>\n",
       "      <td>1470.000000</td>\n",
       "      <td>1470.000000</td>\n",
       "      <td>1470.000000</td>\n",
       "      <td>1470.000000</td>\n",
       "      <td>1470.000000</td>\n",
       "      <td>1470.000000</td>\n",
       "      <td>1470.000000</td>\n",
       "      <td>1470.000000</td>\n",
       "      <td>1470.000000</td>\n",
       "    </tr>\n",
       "    <tr>\n",
       "      <th>mean</th>\n",
       "      <td>36.923810</td>\n",
       "      <td>9.192517</td>\n",
       "      <td>2.912925</td>\n",
       "      <td>2.721769</td>\n",
       "      <td>2.728571</td>\n",
       "      <td>6502.931293</td>\n",
       "      <td>2.693197</td>\n",
       "      <td>2.761224</td>\n",
       "      <td>7.008163</td>\n",
       "    </tr>\n",
       "    <tr>\n",
       "      <th>std</th>\n",
       "      <td>9.135373</td>\n",
       "      <td>8.106864</td>\n",
       "      <td>1.024165</td>\n",
       "      <td>1.093082</td>\n",
       "      <td>1.102846</td>\n",
       "      <td>4707.956783</td>\n",
       "      <td>2.498009</td>\n",
       "      <td>0.706476</td>\n",
       "      <td>6.126525</td>\n",
       "    </tr>\n",
       "    <tr>\n",
       "      <th>min</th>\n",
       "      <td>18.000000</td>\n",
       "      <td>1.000000</td>\n",
       "      <td>1.000000</td>\n",
       "      <td>1.000000</td>\n",
       "      <td>1.000000</td>\n",
       "      <td>1009.000000</td>\n",
       "      <td>0.000000</td>\n",
       "      <td>1.000000</td>\n",
       "      <td>0.000000</td>\n",
       "    </tr>\n",
       "    <tr>\n",
       "      <th>25%</th>\n",
       "      <td>30.000000</td>\n",
       "      <td>2.000000</td>\n",
       "      <td>2.000000</td>\n",
       "      <td>2.000000</td>\n",
       "      <td>2.000000</td>\n",
       "      <td>2911.000000</td>\n",
       "      <td>1.000000</td>\n",
       "      <td>2.000000</td>\n",
       "      <td>3.000000</td>\n",
       "    </tr>\n",
       "    <tr>\n",
       "      <th>50%</th>\n",
       "      <td>36.000000</td>\n",
       "      <td>7.000000</td>\n",
       "      <td>3.000000</td>\n",
       "      <td>3.000000</td>\n",
       "      <td>3.000000</td>\n",
       "      <td>4919.000000</td>\n",
       "      <td>2.000000</td>\n",
       "      <td>3.000000</td>\n",
       "      <td>5.000000</td>\n",
       "    </tr>\n",
       "    <tr>\n",
       "      <th>75%</th>\n",
       "      <td>43.000000</td>\n",
       "      <td>14.000000</td>\n",
       "      <td>4.000000</td>\n",
       "      <td>4.000000</td>\n",
       "      <td>4.000000</td>\n",
       "      <td>8379.000000</td>\n",
       "      <td>4.000000</td>\n",
       "      <td>3.000000</td>\n",
       "      <td>9.000000</td>\n",
       "    </tr>\n",
       "    <tr>\n",
       "      <th>max</th>\n",
       "      <td>60.000000</td>\n",
       "      <td>29.000000</td>\n",
       "      <td>5.000000</td>\n",
       "      <td>4.000000</td>\n",
       "      <td>4.000000</td>\n",
       "      <td>19999.000000</td>\n",
       "      <td>9.000000</td>\n",
       "      <td>4.000000</td>\n",
       "      <td>40.000000</td>\n",
       "    </tr>\n",
       "  </tbody>\n",
       "</table>\n",
       "</div>"
      ],
      "text/plain": [
       "               Age  DistanceFromHome    Education  EnvironmentSatisfaction  \\\n",
       "count  1470.000000       1470.000000  1470.000000              1470.000000   \n",
       "mean     36.923810          9.192517     2.912925                 2.721769   \n",
       "std       9.135373          8.106864     1.024165                 1.093082   \n",
       "min      18.000000          1.000000     1.000000                 1.000000   \n",
       "25%      30.000000          2.000000     2.000000                 2.000000   \n",
       "50%      36.000000          7.000000     3.000000                 3.000000   \n",
       "75%      43.000000         14.000000     4.000000                 4.000000   \n",
       "max      60.000000         29.000000     5.000000                 4.000000   \n",
       "\n",
       "       JobSatisfaction  MonthlyIncome  NumCompaniesWorked  WorkLifeBalance  \\\n",
       "count      1470.000000    1470.000000         1470.000000      1470.000000   \n",
       "mean          2.728571    6502.931293            2.693197         2.761224   \n",
       "std           1.102846    4707.956783            2.498009         0.706476   \n",
       "min           1.000000    1009.000000            0.000000         1.000000   \n",
       "25%           2.000000    2911.000000            1.000000         2.000000   \n",
       "50%           3.000000    4919.000000            2.000000         3.000000   \n",
       "75%           4.000000    8379.000000            4.000000         3.000000   \n",
       "max           4.000000   19999.000000            9.000000         4.000000   \n",
       "\n",
       "       YearsAtCompany  \n",
       "count     1470.000000  \n",
       "mean         7.008163  \n",
       "std          6.126525  \n",
       "min          0.000000  \n",
       "25%          3.000000  \n",
       "50%          5.000000  \n",
       "75%          9.000000  \n",
       "max         40.000000  "
      ]
     },
     "execution_count": 10,
     "metadata": {},
     "output_type": "execute_result"
    }
   ],
   "source": [
    "df.describe()"
   ]
  },
  {
   "cell_type": "code",
   "execution_count": 14,
   "metadata": {},
   "outputs": [
    {
     "name": "stdout",
     "output_type": "stream",
     "text": [
      "<class 'pandas.core.frame.DataFrame'>\n",
      "RangeIndex: 1470 entries, 0 to 1469\n",
      "Data columns (total 13 columns):\n",
      " #   Column                   Non-Null Count  Dtype \n",
      "---  ------                   --------------  ----- \n",
      " 0   Age                      1470 non-null   int64 \n",
      " 1   Attrition                1470 non-null   object\n",
      " 2   Department               1470 non-null   object\n",
      " 3   DistanceFromHome         1470 non-null   int64 \n",
      " 4   Education                1470 non-null   int64 \n",
      " 5   EducationField           1470 non-null   object\n",
      " 6   EnvironmentSatisfaction  1470 non-null   int64 \n",
      " 7   JobSatisfaction          1470 non-null   int64 \n",
      " 8   MaritalStatus            1470 non-null   object\n",
      " 9   MonthlyIncome            1470 non-null   int64 \n",
      " 10  NumCompaniesWorked       1470 non-null   int64 \n",
      " 11  WorkLifeBalance          1470 non-null   int64 \n",
      " 12  YearsAtCompany           1470 non-null   int64 \n",
      "dtypes: int64(9), object(4)\n",
      "memory usage: 149.4+ KB\n"
     ]
    }
   ],
   "source": [
    "df.info()"
   ]
  },
  {
   "cell_type": "code",
   "execution_count": 15,
   "metadata": {},
   "outputs": [
    {
     "data": {
      "text/plain": [
       "Index(['Age', 'Attrition', 'Department', 'DistanceFromHome', 'Education',\n",
       "       'EducationField', 'EnvironmentSatisfaction', 'JobSatisfaction',\n",
       "       'MaritalStatus', 'MonthlyIncome', 'NumCompaniesWorked',\n",
       "       'WorkLifeBalance', 'YearsAtCompany'],\n",
       "      dtype='object')"
      ]
     },
     "execution_count": 15,
     "metadata": {},
     "output_type": "execute_result"
    }
   ],
   "source": [
    "df.columns"
   ]
  },
  {
   "cell_type": "code",
   "execution_count": 16,
   "metadata": {},
   "outputs": [
    {
     "data": {
      "text/plain": [
       "Age                           9.135373\n",
       "DistanceFromHome              8.106864\n",
       "Education                     1.024165\n",
       "EnvironmentSatisfaction       1.093082\n",
       "JobSatisfaction               1.102846\n",
       "MonthlyIncome              4707.956783\n",
       "NumCompaniesWorked            2.498009\n",
       "WorkLifeBalance               0.706476\n",
       "YearsAtCompany                6.126525\n",
       "dtype: float64"
      ]
     },
     "execution_count": 16,
     "metadata": {},
     "output_type": "execute_result"
    }
   ],
   "source": [
    "df.std()"
   ]
  },
  {
   "cell_type": "code",
   "execution_count": 17,
   "metadata": {},
   "outputs": [
    {
     "data": {
      "text/plain": [
       "No     1233\n",
       "Yes     237\n",
       "Name: Attrition, dtype: int64"
      ]
     },
     "execution_count": 17,
     "metadata": {},
     "output_type": "execute_result"
    }
   ],
   "source": [
    "df.Attrition.value_counts()"
   ]
  },
  {
   "cell_type": "code",
   "execution_count": 18,
   "metadata": {},
   "outputs": [
    {
     "data": {
      "text/plain": [
       "dtype('O')"
      ]
     },
     "execution_count": 18,
     "metadata": {},
     "output_type": "execute_result"
    }
   ],
   "source": [
    "df.Attrition.dtypes"
   ]
  },
  {
   "cell_type": "code",
   "execution_count": 23,
   "metadata": {},
   "outputs": [
    {
     "data": {
      "text/html": [
       "<div>\n",
       "<style scoped>\n",
       "    .dataframe tbody tr th:only-of-type {\n",
       "        vertical-align: middle;\n",
       "    }\n",
       "\n",
       "    .dataframe tbody tr th {\n",
       "        vertical-align: top;\n",
       "    }\n",
       "\n",
       "    .dataframe thead th {\n",
       "        text-align: right;\n",
       "    }\n",
       "</style>\n",
       "<table border=\"1\" class=\"dataframe\">\n",
       "  <thead>\n",
       "    <tr style=\"text-align: right;\">\n",
       "      <th></th>\n",
       "      <th>Age</th>\n",
       "      <th>Attrition</th>\n",
       "      <th>Department</th>\n",
       "      <th>DistanceFromHome</th>\n",
       "      <th>Education</th>\n",
       "      <th>EducationField</th>\n",
       "      <th>EnvironmentSatisfaction</th>\n",
       "      <th>JobSatisfaction</th>\n",
       "      <th>MaritalStatus</th>\n",
       "      <th>MonthlyIncome</th>\n",
       "      <th>NumCompaniesWorked</th>\n",
       "      <th>WorkLifeBalance</th>\n",
       "      <th>YearsAtCompany</th>\n",
       "    </tr>\n",
       "  </thead>\n",
       "  <tbody>\n",
       "    <tr>\n",
       "      <th>0</th>\n",
       "      <td>41</td>\n",
       "      <td>1</td>\n",
       "      <td>Sales</td>\n",
       "      <td>1</td>\n",
       "      <td>2</td>\n",
       "      <td>Life Sciences</td>\n",
       "      <td>2</td>\n",
       "      <td>4</td>\n",
       "      <td>Single</td>\n",
       "      <td>5993</td>\n",
       "      <td>8</td>\n",
       "      <td>1</td>\n",
       "      <td>6</td>\n",
       "    </tr>\n",
       "    <tr>\n",
       "      <th>1</th>\n",
       "      <td>49</td>\n",
       "      <td>2</td>\n",
       "      <td>Research &amp; Development</td>\n",
       "      <td>8</td>\n",
       "      <td>1</td>\n",
       "      <td>Life Sciences</td>\n",
       "      <td>3</td>\n",
       "      <td>2</td>\n",
       "      <td>Married</td>\n",
       "      <td>5130</td>\n",
       "      <td>1</td>\n",
       "      <td>3</td>\n",
       "      <td>10</td>\n",
       "    </tr>\n",
       "    <tr>\n",
       "      <th>2</th>\n",
       "      <td>37</td>\n",
       "      <td>1</td>\n",
       "      <td>Research &amp; Development</td>\n",
       "      <td>2</td>\n",
       "      <td>2</td>\n",
       "      <td>Other</td>\n",
       "      <td>4</td>\n",
       "      <td>3</td>\n",
       "      <td>Single</td>\n",
       "      <td>2090</td>\n",
       "      <td>6</td>\n",
       "      <td>3</td>\n",
       "      <td>0</td>\n",
       "    </tr>\n",
       "    <tr>\n",
       "      <th>3</th>\n",
       "      <td>33</td>\n",
       "      <td>2</td>\n",
       "      <td>Research &amp; Development</td>\n",
       "      <td>3</td>\n",
       "      <td>4</td>\n",
       "      <td>Life Sciences</td>\n",
       "      <td>4</td>\n",
       "      <td>3</td>\n",
       "      <td>Married</td>\n",
       "      <td>2909</td>\n",
       "      <td>1</td>\n",
       "      <td>3</td>\n",
       "      <td>8</td>\n",
       "    </tr>\n",
       "    <tr>\n",
       "      <th>4</th>\n",
       "      <td>27</td>\n",
       "      <td>2</td>\n",
       "      <td>Research &amp; Development</td>\n",
       "      <td>2</td>\n",
       "      <td>1</td>\n",
       "      <td>Medical</td>\n",
       "      <td>1</td>\n",
       "      <td>2</td>\n",
       "      <td>Married</td>\n",
       "      <td>3468</td>\n",
       "      <td>9</td>\n",
       "      <td>3</td>\n",
       "      <td>2</td>\n",
       "    </tr>\n",
       "    <tr>\n",
       "      <th>5</th>\n",
       "      <td>32</td>\n",
       "      <td>2</td>\n",
       "      <td>Research &amp; Development</td>\n",
       "      <td>2</td>\n",
       "      <td>2</td>\n",
       "      <td>Life Sciences</td>\n",
       "      <td>4</td>\n",
       "      <td>4</td>\n",
       "      <td>Single</td>\n",
       "      <td>3068</td>\n",
       "      <td>0</td>\n",
       "      <td>2</td>\n",
       "      <td>7</td>\n",
       "    </tr>\n",
       "    <tr>\n",
       "      <th>6</th>\n",
       "      <td>59</td>\n",
       "      <td>2</td>\n",
       "      <td>Research &amp; Development</td>\n",
       "      <td>3</td>\n",
       "      <td>3</td>\n",
       "      <td>Medical</td>\n",
       "      <td>3</td>\n",
       "      <td>1</td>\n",
       "      <td>Married</td>\n",
       "      <td>2670</td>\n",
       "      <td>4</td>\n",
       "      <td>2</td>\n",
       "      <td>1</td>\n",
       "    </tr>\n",
       "    <tr>\n",
       "      <th>7</th>\n",
       "      <td>30</td>\n",
       "      <td>2</td>\n",
       "      <td>Research &amp; Development</td>\n",
       "      <td>24</td>\n",
       "      <td>1</td>\n",
       "      <td>Life Sciences</td>\n",
       "      <td>4</td>\n",
       "      <td>3</td>\n",
       "      <td>Divorced</td>\n",
       "      <td>2693</td>\n",
       "      <td>1</td>\n",
       "      <td>3</td>\n",
       "      <td>1</td>\n",
       "    </tr>\n",
       "    <tr>\n",
       "      <th>8</th>\n",
       "      <td>38</td>\n",
       "      <td>2</td>\n",
       "      <td>Research &amp; Development</td>\n",
       "      <td>23</td>\n",
       "      <td>3</td>\n",
       "      <td>Life Sciences</td>\n",
       "      <td>4</td>\n",
       "      <td>3</td>\n",
       "      <td>Single</td>\n",
       "      <td>9526</td>\n",
       "      <td>0</td>\n",
       "      <td>3</td>\n",
       "      <td>9</td>\n",
       "    </tr>\n",
       "    <tr>\n",
       "      <th>9</th>\n",
       "      <td>36</td>\n",
       "      <td>2</td>\n",
       "      <td>Research &amp; Development</td>\n",
       "      <td>27</td>\n",
       "      <td>3</td>\n",
       "      <td>Medical</td>\n",
       "      <td>3</td>\n",
       "      <td>3</td>\n",
       "      <td>Married</td>\n",
       "      <td>5237</td>\n",
       "      <td>6</td>\n",
       "      <td>2</td>\n",
       "      <td>7</td>\n",
       "    </tr>\n",
       "    <tr>\n",
       "      <th>10</th>\n",
       "      <td>35</td>\n",
       "      <td>2</td>\n",
       "      <td>Research &amp; Development</td>\n",
       "      <td>16</td>\n",
       "      <td>3</td>\n",
       "      <td>Medical</td>\n",
       "      <td>1</td>\n",
       "      <td>2</td>\n",
       "      <td>Married</td>\n",
       "      <td>2426</td>\n",
       "      <td>0</td>\n",
       "      <td>3</td>\n",
       "      <td>5</td>\n",
       "    </tr>\n",
       "    <tr>\n",
       "      <th>11</th>\n",
       "      <td>29</td>\n",
       "      <td>2</td>\n",
       "      <td>Research &amp; Development</td>\n",
       "      <td>15</td>\n",
       "      <td>2</td>\n",
       "      <td>Life Sciences</td>\n",
       "      <td>4</td>\n",
       "      <td>3</td>\n",
       "      <td>Single</td>\n",
       "      <td>4193</td>\n",
       "      <td>0</td>\n",
       "      <td>3</td>\n",
       "      <td>9</td>\n",
       "    </tr>\n",
       "    <tr>\n",
       "      <th>12</th>\n",
       "      <td>31</td>\n",
       "      <td>2</td>\n",
       "      <td>Research &amp; Development</td>\n",
       "      <td>26</td>\n",
       "      <td>1</td>\n",
       "      <td>Life Sciences</td>\n",
       "      <td>1</td>\n",
       "      <td>3</td>\n",
       "      <td>Divorced</td>\n",
       "      <td>2911</td>\n",
       "      <td>1</td>\n",
       "      <td>2</td>\n",
       "      <td>5</td>\n",
       "    </tr>\n",
       "    <tr>\n",
       "      <th>13</th>\n",
       "      <td>34</td>\n",
       "      <td>2</td>\n",
       "      <td>Research &amp; Development</td>\n",
       "      <td>19</td>\n",
       "      <td>2</td>\n",
       "      <td>Medical</td>\n",
       "      <td>2</td>\n",
       "      <td>4</td>\n",
       "      <td>Divorced</td>\n",
       "      <td>2661</td>\n",
       "      <td>0</td>\n",
       "      <td>3</td>\n",
       "      <td>2</td>\n",
       "    </tr>\n",
       "    <tr>\n",
       "      <th>14</th>\n",
       "      <td>28</td>\n",
       "      <td>1</td>\n",
       "      <td>Research &amp; Development</td>\n",
       "      <td>24</td>\n",
       "      <td>3</td>\n",
       "      <td>Life Sciences</td>\n",
       "      <td>3</td>\n",
       "      <td>3</td>\n",
       "      <td>Single</td>\n",
       "      <td>2028</td>\n",
       "      <td>5</td>\n",
       "      <td>3</td>\n",
       "      <td>4</td>\n",
       "    </tr>\n",
       "  </tbody>\n",
       "</table>\n",
       "</div>"
      ],
      "text/plain": [
       "    Age  Attrition              Department  DistanceFromHome  Education  \\\n",
       "0    41          1                   Sales                 1          2   \n",
       "1    49          2  Research & Development                 8          1   \n",
       "2    37          1  Research & Development                 2          2   \n",
       "3    33          2  Research & Development                 3          4   \n",
       "4    27          2  Research & Development                 2          1   \n",
       "5    32          2  Research & Development                 2          2   \n",
       "6    59          2  Research & Development                 3          3   \n",
       "7    30          2  Research & Development                24          1   \n",
       "8    38          2  Research & Development                23          3   \n",
       "9    36          2  Research & Development                27          3   \n",
       "10   35          2  Research & Development                16          3   \n",
       "11   29          2  Research & Development                15          2   \n",
       "12   31          2  Research & Development                26          1   \n",
       "13   34          2  Research & Development                19          2   \n",
       "14   28          1  Research & Development                24          3   \n",
       "\n",
       "   EducationField  EnvironmentSatisfaction  JobSatisfaction MaritalStatus  \\\n",
       "0   Life Sciences                        2                4        Single   \n",
       "1   Life Sciences                        3                2       Married   \n",
       "2           Other                        4                3        Single   \n",
       "3   Life Sciences                        4                3       Married   \n",
       "4         Medical                        1                2       Married   \n",
       "5   Life Sciences                        4                4        Single   \n",
       "6         Medical                        3                1       Married   \n",
       "7   Life Sciences                        4                3      Divorced   \n",
       "8   Life Sciences                        4                3        Single   \n",
       "9         Medical                        3                3       Married   \n",
       "10        Medical                        1                2       Married   \n",
       "11  Life Sciences                        4                3        Single   \n",
       "12  Life Sciences                        1                3      Divorced   \n",
       "13        Medical                        2                4      Divorced   \n",
       "14  Life Sciences                        3                3        Single   \n",
       "\n",
       "    MonthlyIncome  NumCompaniesWorked  WorkLifeBalance  YearsAtCompany  \n",
       "0            5993                   8                1               6  \n",
       "1            5130                   1                3              10  \n",
       "2            2090                   6                3               0  \n",
       "3            2909                   1                3               8  \n",
       "4            3468                   9                3               2  \n",
       "5            3068                   0                2               7  \n",
       "6            2670                   4                2               1  \n",
       "7            2693                   1                3               1  \n",
       "8            9526                   0                3               9  \n",
       "9            5237                   6                2               7  \n",
       "10           2426                   0                3               5  \n",
       "11           4193                   0                3               9  \n",
       "12           2911                   1                2               5  \n",
       "13           2661                   0                3               2  \n",
       "14           2028                   5                3               4  "
      ]
     },
     "execution_count": 23,
     "metadata": {},
     "output_type": "execute_result"
    }
   ],
   "source": [
    "df.Attrition.replace('Yes',1,inplace = True)\n",
    "df.Attrition.replace('No', 2,inplace = True)\n",
    "df.head(15)\n"
   ]
  },
  {
   "cell_type": "code",
   "execution_count": 24,
   "metadata": {},
   "outputs": [
    {
     "data": {
      "text/plain": [
       "dtype('int64')"
      ]
     },
     "execution_count": 24,
     "metadata": {},
     "output_type": "execute_result"
    }
   ],
   "source": [
    "df.Attrition.dtypes"
   ]
  },
  {
   "cell_type": "code",
   "execution_count": 25,
   "metadata": {},
   "outputs": [
    {
     "data": {
      "text/plain": [
       "0    1\n",
       "1    2\n",
       "2    1\n",
       "3    2\n",
       "4    2\n",
       "Name: Attrition, dtype: int64"
      ]
     },
     "execution_count": 25,
     "metadata": {},
     "output_type": "execute_result"
    }
   ],
   "source": [
    "x = df.drop(['Attrition'],axis = 1)\n",
    "x.head()\n",
    "y = df['Attrition']\n",
    "y.head()"
   ]
  },
  {
   "cell_type": "code",
   "execution_count": 26,
   "metadata": {},
   "outputs": [
    {
     "data": {
      "text/plain": [
       "Life Sciences       606\n",
       "Medical             464\n",
       "Marketing           159\n",
       "Technical Degree    132\n",
       "Other                82\n",
       "Human Resources      27\n",
       "Name: EducationField, dtype: int64"
      ]
     },
     "execution_count": 26,
     "metadata": {},
     "output_type": "execute_result"
    }
   ],
   "source": [
    "df.EducationField.value_counts()"
   ]
  },
  {
   "cell_type": "code",
   "execution_count": 28,
   "metadata": {},
   "outputs": [
    {
     "data": {
      "text/plain": [
       "1    606\n",
       "2    464\n",
       "3    159\n",
       "5    132\n",
       "4     82\n",
       "6     27\n",
       "Name: EducationField, dtype: int64"
      ]
     },
     "execution_count": 28,
     "metadata": {},
     "output_type": "execute_result"
    }
   ],
   "source": [
    "df.EducationField.replace('Life Sciences',1,inplace = True)\n",
    "df.EducationField.replace('Medical',2,inplace = True)\n",
    "df.EducationField.replace('Marketing',3,inplace = True)\n",
    "df.EducationField.replace('Other',4,inplace = True)\n",
    "df.EducationField.replace('Technical Degree',5,inplace = True)\n",
    "df.EducationField.replace('Human Resources',6,inplace = True)\n",
    "df.EducationField.value_counts()"
   ]
  },
  {
   "cell_type": "code",
   "execution_count": 29,
   "metadata": {},
   "outputs": [
    {
     "data": {
      "text/plain": [
       "Research & Development    961\n",
       "Sales                     446\n",
       "Human Resources            63\n",
       "Name: Department, dtype: int64"
      ]
     },
     "execution_count": 29,
     "metadata": {},
     "output_type": "execute_result"
    }
   ],
   "source": [
    "df.Department.value_counts()"
   ]
  },
  {
   "cell_type": "code",
   "execution_count": 30,
   "metadata": {},
   "outputs": [
    {
     "data": {
      "text/plain": [
       "1    961\n",
       "2    446\n",
       "3     63\n",
       "Name: Department, dtype: int64"
      ]
     },
     "execution_count": 30,
     "metadata": {},
     "output_type": "execute_result"
    }
   ],
   "source": [
    "df.Department.replace('Research & Development',1,inplace = True)\n",
    "df.Department.replace('Sales',2,inplace = True)\n",
    "df.Department.replace('Human Resources',3,inplace = True)\n",
    "df.Department.value_counts()"
   ]
  },
  {
   "cell_type": "code",
   "execution_count": 31,
   "metadata": {},
   "outputs": [
    {
     "data": {
      "text/plain": [
       "Married     673\n",
       "Single      470\n",
       "Divorced    327\n",
       "Name: MaritalStatus, dtype: int64"
      ]
     },
     "execution_count": 31,
     "metadata": {},
     "output_type": "execute_result"
    }
   ],
   "source": [
    "df.MaritalStatus.value_counts()"
   ]
  },
  {
   "cell_type": "code",
   "execution_count": 32,
   "metadata": {},
   "outputs": [
    {
     "data": {
      "text/plain": [
       "1    673\n",
       "2    470\n",
       "3    327\n",
       "Name: MaritalStatus, dtype: int64"
      ]
     },
     "execution_count": 32,
     "metadata": {},
     "output_type": "execute_result"
    }
   ],
   "source": [
    "df.MaritalStatus.replace('Married',1,inplace = True)\n",
    "df.MaritalStatus.replace('Single',2,inplace = True)\n",
    "df.MaritalStatus.replace('Divorced',3,inplace = True)\n",
    "df.MaritalStatus.value_counts()"
   ]
  },
  {
   "cell_type": "code",
   "execution_count": 33,
   "metadata": {},
   "outputs": [
    {
     "name": "stdout",
     "output_type": "stream",
     "text": [
      "<class 'pandas.core.frame.DataFrame'>\n",
      "RangeIndex: 1470 entries, 0 to 1469\n",
      "Data columns (total 13 columns):\n",
      " #   Column                   Non-Null Count  Dtype\n",
      "---  ------                   --------------  -----\n",
      " 0   Age                      1470 non-null   int64\n",
      " 1   Attrition                1470 non-null   int64\n",
      " 2   Department               1470 non-null   int64\n",
      " 3   DistanceFromHome         1470 non-null   int64\n",
      " 4   Education                1470 non-null   int64\n",
      " 5   EducationField           1470 non-null   int64\n",
      " 6   EnvironmentSatisfaction  1470 non-null   int64\n",
      " 7   JobSatisfaction          1470 non-null   int64\n",
      " 8   MaritalStatus            1470 non-null   int64\n",
      " 9   MonthlyIncome            1470 non-null   int64\n",
      " 10  NumCompaniesWorked       1470 non-null   int64\n",
      " 11  WorkLifeBalance          1470 non-null   int64\n",
      " 12  YearsAtCompany           1470 non-null   int64\n",
      "dtypes: int64(13)\n",
      "memory usage: 149.4 KB\n"
     ]
    }
   ],
   "source": [
    "df.info()"
   ]
  },
  {
   "cell_type": "code",
   "execution_count": 34,
   "metadata": {},
   "outputs": [
    {
     "data": {
      "text/plain": [
       "Age                        int64\n",
       "Attrition                  int64\n",
       "Department                 int64\n",
       "DistanceFromHome           int64\n",
       "Education                  int64\n",
       "EducationField             int64\n",
       "EnvironmentSatisfaction    int64\n",
       "JobSatisfaction            int64\n",
       "MaritalStatus              int64\n",
       "MonthlyIncome              int64\n",
       "NumCompaniesWorked         int64\n",
       "WorkLifeBalance            int64\n",
       "YearsAtCompany             int64\n",
       "dtype: object"
      ]
     },
     "execution_count": 34,
     "metadata": {},
     "output_type": "execute_result"
    }
   ],
   "source": [
    "x = df.select_dtypes(include=['int64'])\n",
    "x.dtypes"
   ]
  },
  {
   "cell_type": "code",
   "execution_count": 35,
   "metadata": {},
   "outputs": [
    {
     "data": {
      "text/plain": [
       "Index(['Age', 'Attrition', 'Department', 'DistanceFromHome', 'Education',\n",
       "       'EducationField', 'EnvironmentSatisfaction', 'JobSatisfaction',\n",
       "       'MaritalStatus', 'MonthlyIncome', 'NumCompaniesWorked',\n",
       "       'WorkLifeBalance', 'YearsAtCompany'],\n",
       "      dtype='object')"
      ]
     },
     "execution_count": 35,
     "metadata": {},
     "output_type": "execute_result"
    }
   ],
   "source": [
    "x.columns"
   ]
  },
  {
   "cell_type": "code",
   "execution_count": 37,
   "metadata": {},
   "outputs": [
    {
     "data": {
      "text/plain": [
       "0    1\n",
       "1    2\n",
       "2    1\n",
       "3    2\n",
       "4    2\n",
       "Name: Attrition, dtype: int64"
      ]
     },
     "execution_count": 37,
     "metadata": {},
     "output_type": "execute_result"
    }
   ],
   "source": [
    "y=df['Attrition']\n",
    "y.head()"
   ]
  },
  {
   "cell_type": "code",
   "execution_count": 38,
   "metadata": {},
   "outputs": [
    {
     "name": "stdout",
     "output_type": "stream",
     "text": [
      "Index(['Intercept', 'Age', 'Department', 'DistanceFromHome', 'Education',\n",
      "       'EducationField', 'YearsAtCompany'],\n",
      "      dtype='object')\n"
     ]
    }
   ],
   "source": [
    "y, x = dmatrices('Attrition ~ Age + Department + \\\n",
    "                  DistanceFromHome + Education + EducationField + YearsAtCompany',\n",
    "                  df, return_type=\"dataframe\")\n",
    "print (x.columns)"
   ]
  },
  {
   "cell_type": "code",
   "execution_count": 39,
   "metadata": {},
   "outputs": [],
   "source": [
    "y = np.ravel(y)"
   ]
  },
  {
   "cell_type": "code",
   "execution_count": 40,
   "metadata": {},
   "outputs": [
    {
     "data": {
      "text/plain": [
       "0.8408163265306122"
      ]
     },
     "execution_count": 40,
     "metadata": {},
     "output_type": "execute_result"
    }
   ],
   "source": [
    "from sklearn.linear_model import LogisticRegression\n",
    "\n",
    "model = LogisticRegression()\n",
    "model = model.fit(x,y)\n",
    " \n",
    "model.score(x,y)"
   ]
  },
  {
   "cell_type": "code",
   "execution_count": 41,
   "metadata": {},
   "outputs": [
    {
     "data": {
      "text/plain": [
       "1.8387755102040817"
      ]
     },
     "execution_count": 41,
     "metadata": {},
     "output_type": "execute_result"
    }
   ],
   "source": [
    "y.mean()"
   ]
  },
  {
   "cell_type": "code",
   "execution_count": 42,
   "metadata": {},
   "outputs": [
    {
     "data": {
      "text/plain": [
       "LogisticRegression()"
      ]
     },
     "execution_count": 42,
     "metadata": {},
     "output_type": "execute_result"
    }
   ],
   "source": [
    "X_train,X_test,y_train,y_test=sklearn.model_selection.train_test_split(x,y, test_size=0.3, random_state=0)\n",
    "model2=LogisticRegression()\n",
    "model2.fit(X_train, y_train)"
   ]
  },
  {
   "cell_type": "code",
   "execution_count": 43,
   "metadata": {},
   "outputs": [
    {
     "name": "stdout",
     "output_type": "stream",
     "text": [
      "[2. 2. 2. 2. 2. 2. 2. 2. 2. 2. 2. 2. 2. 2. 2. 2. 2. 2. 2. 2. 2. 2. 2. 2.\n",
      " 2. 2. 2. 2. 2. 2. 2. 2. 2. 2. 2. 2. 2. 2. 2. 2. 2. 2. 2. 2. 2. 2. 2. 2.\n",
      " 2. 2. 2. 2. 2. 2. 2. 2. 2. 2. 2. 2. 2. 2. 2. 2. 2. 2. 2. 2. 2. 2. 2. 2.\n",
      " 2. 2. 2. 2. 2. 2. 2. 2. 2. 2. 2. 2. 2. 2. 2. 2. 2. 2. 2. 2. 2. 2. 2. 2.\n",
      " 2. 2. 2. 2. 2. 2. 2. 2. 2. 2. 2. 2. 2. 2. 2. 2. 2. 2. 2. 2. 2. 2. 2. 2.\n",
      " 2. 2. 2. 2. 2. 2. 2. 2. 2. 2. 2. 2. 2. 2. 2. 2. 2. 2. 2. 2. 2. 2. 2. 2.\n",
      " 2. 2. 2. 2. 2. 2. 2. 2. 2. 2. 2. 2. 2. 2. 2. 2. 2. 2. 2. 2. 2. 2. 2. 2.\n",
      " 2. 2. 2. 2. 2. 2. 2. 2. 2. 2. 2. 2. 2. 2. 2. 2. 2. 2. 2. 2. 2. 2. 2. 2.\n",
      " 2. 2. 2. 2. 2. 2. 2. 2. 2. 2. 2. 2. 2. 2. 2. 2. 2. 2. 2. 2. 2. 2. 2. 2.\n",
      " 2. 2. 2. 2. 2. 2. 2. 2. 2. 2. 2. 2. 2. 2. 2. 2. 2. 2. 2. 2. 2. 2. 2. 2.\n",
      " 2. 2. 2. 2. 2. 2. 2. 2. 2. 2. 2. 2. 2. 2. 2. 2. 2. 2. 2. 2. 2. 2. 2. 2.\n",
      " 2. 2. 2. 2. 2. 2. 2. 2. 2. 2. 2. 2. 2. 2. 2. 2. 2. 2. 2. 2. 2. 2. 2. 2.\n",
      " 2. 2. 2. 2. 2. 2. 2. 2. 2. 2. 2. 2. 2. 2. 2. 2. 2. 2. 2. 2. 2. 2. 2. 2.\n",
      " 2. 2. 2. 2. 2. 2. 2. 2. 1. 2. 2. 2. 2. 2. 2. 2. 2. 2. 2. 2. 2. 2. 2. 2.\n",
      " 2. 2. 2. 2. 2. 2. 2. 2. 2. 2. 2. 2. 2. 2. 2. 2. 2. 2. 2. 2. 2. 2. 2. 2.\n",
      " 2. 2. 2. 2. 2. 2. 2. 2. 2. 2. 2. 2. 2. 2. 2. 2. 2. 2. 2. 2. 2. 2. 2. 2.\n",
      " 2. 2. 2. 2. 2. 2. 2. 2. 2. 2. 2. 2. 2. 2. 2. 2. 2. 2. 2. 2. 2. 2. 2. 2.\n",
      " 2. 2. 2. 2. 2. 2. 2. 2. 2. 2. 2. 2. 2. 2. 2. 2. 2. 2. 2. 2. 2. 2. 2. 2.\n",
      " 2. 2. 2. 2. 2. 2. 2. 2. 2.]\n"
     ]
    }
   ],
   "source": [
    "predicted= model2.predict(X_test)\n",
    "print (predicted)"
   ]
  },
  {
   "cell_type": "code",
   "execution_count": 44,
   "metadata": {},
   "outputs": [
    {
     "name": "stdout",
     "output_type": "stream",
     "text": [
      "[[0.13820381 0.86179619]\n",
      " [0.19245409 0.80754591]\n",
      " [0.25876078 0.74123922]\n",
      " [0.1655866  0.8344134 ]\n",
      " [0.26500068 0.73499932]\n",
      " [0.20902262 0.79097738]\n",
      " [0.14384806 0.85615194]\n",
      " [0.14300333 0.85699667]\n",
      " [0.03300941 0.96699059]\n",
      " [0.06314787 0.93685213]\n",
      " [0.04900718 0.95099282]\n",
      " [0.1689845  0.8310155 ]\n",
      " [0.13703442 0.86296558]\n",
      " [0.13418806 0.86581194]\n",
      " [0.11249393 0.88750607]\n",
      " [0.11107384 0.88892616]\n",
      " [0.1143027  0.8856973 ]\n",
      " [0.21483419 0.78516581]\n",
      " [0.2020551  0.7979449 ]\n",
      " [0.11488692 0.88511308]\n",
      " [0.2934842  0.7065158 ]\n",
      " [0.05323304 0.94676696]\n",
      " [0.13263747 0.86736253]\n",
      " [0.1572355  0.8427645 ]\n",
      " [0.39663179 0.60336821]\n",
      " [0.18870801 0.81129199]\n",
      " [0.08186266 0.91813734]\n",
      " [0.06714477 0.93285523]\n",
      " [0.3176926  0.6823074 ]\n",
      " [0.12972858 0.87027142]\n",
      " [0.12733613 0.87266387]\n",
      " [0.23031266 0.76968734]\n",
      " [0.1356422  0.8643578 ]\n",
      " [0.04241116 0.95758884]\n",
      " [0.15538512 0.84461488]\n",
      " [0.13280652 0.86719348]\n",
      " [0.09534014 0.90465986]\n",
      " [0.31063581 0.68936419]\n",
      " [0.0929638  0.9070362 ]\n",
      " [0.19336529 0.80663471]\n",
      " [0.08484268 0.91515732]\n",
      " [0.17648734 0.82351266]\n",
      " [0.0628848  0.9371152 ]\n",
      " [0.06588675 0.93411325]\n",
      " [0.10552343 0.89447657]\n",
      " [0.14682252 0.85317748]\n",
      " [0.21077613 0.78922387]\n",
      " [0.15120111 0.84879889]\n",
      " [0.33597565 0.66402435]\n",
      " [0.23747715 0.76252285]\n",
      " [0.07148885 0.92851115]\n",
      " [0.21046304 0.78953696]\n",
      " [0.13833411 0.86166589]\n",
      " [0.14162119 0.85837881]\n",
      " [0.12782325 0.87217675]\n",
      " [0.21049107 0.78950893]\n",
      " [0.12309205 0.87690795]\n",
      " [0.15834547 0.84165453]\n",
      " [0.27152872 0.72847128]\n",
      " [0.16818602 0.83181398]\n",
      " [0.09904969 0.90095031]\n",
      " [0.28922683 0.71077317]\n",
      " [0.07176973 0.92823027]\n",
      " [0.15624323 0.84375677]\n",
      " [0.20455897 0.79544103]\n",
      " [0.13173833 0.86826167]\n",
      " [0.08320547 0.91679453]\n",
      " [0.15236944 0.84763056]\n",
      " [0.10746291 0.89253709]\n",
      " [0.37127915 0.62872085]\n",
      " [0.06124602 0.93875398]\n",
      " [0.27379676 0.72620324]\n",
      " [0.14347026 0.85652974]\n",
      " [0.15773977 0.84226023]\n",
      " [0.22563625 0.77436375]\n",
      " [0.28100446 0.71899554]\n",
      " [0.06412606 0.93587394]\n",
      " [0.04289926 0.95710074]\n",
      " [0.20814174 0.79185826]\n",
      " [0.10629559 0.89370441]\n",
      " [0.08617957 0.91382043]\n",
      " [0.20645411 0.79354589]\n",
      " [0.22065986 0.77934014]\n",
      " [0.2036103  0.7963897 ]\n",
      " [0.16199497 0.83800503]\n",
      " [0.28604344 0.71395656]\n",
      " [0.02227281 0.97772719]\n",
      " [0.05354021 0.94645979]\n",
      " [0.11382372 0.88617628]\n",
      " [0.20379833 0.79620167]\n",
      " [0.38136191 0.61863809]\n",
      " [0.18133529 0.81866471]\n",
      " [0.25495885 0.74504115]\n",
      " [0.13220504 0.86779496]\n",
      " [0.12928859 0.87071141]\n",
      " [0.18282537 0.81717463]\n",
      " [0.28159234 0.71840766]\n",
      " [0.40174137 0.59825863]\n",
      " [0.16048444 0.83951556]\n",
      " [0.11648672 0.88351328]\n",
      " [0.2564744  0.7435256 ]\n",
      " [0.23368378 0.76631622]\n",
      " [0.01966961 0.98033039]\n",
      " [0.08142529 0.91857471]\n",
      " [0.22567161 0.77432839]\n",
      " [0.0748518  0.9251482 ]\n",
      " [0.11876616 0.88123384]\n",
      " [0.25412841 0.74587159]\n",
      " [0.09521637 0.90478363]\n",
      " [0.21314493 0.78685507]\n",
      " [0.18852229 0.81147771]\n",
      " [0.06527827 0.93472173]\n",
      " [0.06163493 0.93836507]\n",
      " [0.20588257 0.79411743]\n",
      " [0.18627102 0.81372898]\n",
      " [0.08389078 0.91610922]\n",
      " [0.09571651 0.90428349]\n",
      " [0.15330582 0.84669418]\n",
      " [0.04615442 0.95384558]\n",
      " [0.08716307 0.91283693]\n",
      " [0.14080391 0.85919609]\n",
      " [0.14097505 0.85902495]\n",
      " [0.12480484 0.87519516]\n",
      " [0.23885338 0.76114662]\n",
      " [0.07782311 0.92217689]\n",
      " [0.03140587 0.96859413]\n",
      " [0.05601774 0.94398226]\n",
      " [0.18219715 0.81780285]\n",
      " [0.11941294 0.88058706]\n",
      " [0.22105711 0.77894289]\n",
      " [0.02875532 0.97124468]\n",
      " [0.11192338 0.88807662]\n",
      " [0.21284736 0.78715264]\n",
      " [0.17998522 0.82001478]\n",
      " [0.05065452 0.94934548]\n",
      " [0.04111063 0.95888937]\n",
      " [0.26440796 0.73559204]\n",
      " [0.06582997 0.93417003]\n",
      " [0.26249384 0.73750616]\n",
      " [0.17863259 0.82136741]\n",
      " [0.178288   0.821712  ]\n",
      " [0.10103295 0.89896705]\n",
      " [0.21254233 0.78745767]\n",
      " [0.10174647 0.89825353]\n",
      " [0.08566177 0.91433823]\n",
      " [0.07275255 0.92724745]\n",
      " [0.03405031 0.96594969]\n",
      " [0.05582628 0.94417372]\n",
      " [0.06926915 0.93073085]\n",
      " [0.33679436 0.66320564]\n",
      " [0.15831353 0.84168647]\n",
      " [0.17363187 0.82636813]\n",
      " [0.19383365 0.80616635]\n",
      " [0.03842364 0.96157636]\n",
      " [0.06484839 0.93515161]\n",
      " [0.05221369 0.94778631]\n",
      " [0.02662171 0.97337829]\n",
      " [0.20702956 0.79297044]\n",
      " [0.12229802 0.87770198]\n",
      " [0.13896339 0.86103661]\n",
      " [0.04814519 0.95185481]\n",
      " [0.06868506 0.93131494]\n",
      " [0.24314651 0.75685349]\n",
      " [0.2500221  0.7499779 ]\n",
      " [0.04472131 0.95527869]\n",
      " [0.13049274 0.86950726]\n",
      " [0.18623235 0.81376765]\n",
      " [0.23009385 0.76990615]\n",
      " [0.19922097 0.80077903]\n",
      " [0.07198875 0.92801125]\n",
      " [0.09050751 0.90949249]\n",
      " [0.05442368 0.94557632]\n",
      " [0.06669528 0.93330472]\n",
      " [0.30854116 0.69145884]\n",
      " [0.06943111 0.93056889]\n",
      " [0.25474591 0.74525409]\n",
      " [0.21405666 0.78594334]\n",
      " [0.06691396 0.93308604]\n",
      " [0.19121708 0.80878292]\n",
      " [0.14903542 0.85096458]\n",
      " [0.33043736 0.66956264]\n",
      " [0.09661619 0.90338381]\n",
      " [0.08841063 0.91158937]\n",
      " [0.12699502 0.87300498]\n",
      " [0.07060941 0.92939059]\n",
      " [0.33338301 0.66661699]\n",
      " [0.10901484 0.89098516]\n",
      " [0.13783298 0.86216702]\n",
      " [0.21161445 0.78838555]\n",
      " [0.46900428 0.53099572]\n",
      " [0.26655684 0.73344316]\n",
      " [0.28946025 0.71053975]\n",
      " [0.14469503 0.85530497]\n",
      " [0.13039407 0.86960593]\n",
      " [0.24529997 0.75470003]\n",
      " [0.10176484 0.89823516]\n",
      " [0.20752167 0.79247833]\n",
      " [0.0935685  0.9064315 ]\n",
      " [0.22349223 0.77650777]\n",
      " [0.11612211 0.88387789]\n",
      " [0.14595691 0.85404309]\n",
      " [0.18100651 0.81899349]\n",
      " [0.25551499 0.74448501]\n",
      " [0.13740568 0.86259432]\n",
      " [0.22177379 0.77822621]\n",
      " [0.23071682 0.76928318]\n",
      " [0.20320778 0.79679222]\n",
      " [0.07903408 0.92096592]\n",
      " [0.25426241 0.74573759]\n",
      " [0.12500769 0.87499231]\n",
      " [0.1449671  0.8550329 ]\n",
      " [0.22707859 0.77292141]\n",
      " [0.12772729 0.87227271]\n",
      " [0.32604665 0.67395335]\n",
      " [0.06378332 0.93621668]\n",
      " [0.17520522 0.82479478]\n",
      " [0.0485395  0.9514605 ]\n",
      " [0.16537553 0.83462447]\n",
      " [0.18893516 0.81106484]\n",
      " [0.1917175  0.8082825 ]\n",
      " [0.12335843 0.87664157]\n",
      " [0.33213016 0.66786984]\n",
      " [0.4038316  0.5961684 ]\n",
      " [0.01020633 0.98979367]\n",
      " [0.29365612 0.70634388]\n",
      " [0.08366902 0.91633098]\n",
      " [0.07866522 0.92133478]\n",
      " [0.28616094 0.71383906]\n",
      " [0.37546083 0.62453917]\n",
      " [0.23559427 0.76440573]\n",
      " [0.04598342 0.95401658]\n",
      " [0.11813275 0.88186725]\n",
      " [0.13980097 0.86019903]\n",
      " [0.07882617 0.92117383]\n",
      " [0.1198083  0.8801917 ]\n",
      " [0.19548582 0.80451418]\n",
      " [0.19414821 0.80585179]\n",
      " [0.08654502 0.91345498]\n",
      " [0.27898195 0.72101805]\n",
      " [0.05491992 0.94508008]\n",
      " [0.09093087 0.90906913]\n",
      " [0.2661826  0.7338174 ]\n",
      " [0.01890813 0.98109187]\n",
      " [0.14509555 0.85490445]\n",
      " [0.10182925 0.89817075]\n",
      " [0.17563009 0.82436991]\n",
      " [0.166129   0.833871  ]\n",
      " [0.11863347 0.88136653]\n",
      " [0.11968695 0.88031305]\n",
      " [0.12439379 0.87560621]\n",
      " [0.18382798 0.81617202]\n",
      " [0.1197115  0.8802885 ]\n",
      " [0.38469185 0.61530815]\n",
      " [0.11173837 0.88826163]\n",
      " [0.10307181 0.89692819]\n",
      " [0.14671074 0.85328926]\n",
      " [0.01702956 0.98297044]\n",
      " [0.22658768 0.77341232]\n",
      " [0.37815135 0.62184865]\n",
      " [0.17260866 0.82739134]\n",
      " [0.15916663 0.84083337]\n",
      " [0.151914   0.848086  ]\n",
      " [0.15062969 0.84937031]\n",
      " [0.24459031 0.75540969]\n",
      " [0.13811144 0.86188856]\n",
      " [0.09315307 0.90684693]\n",
      " [0.15336733 0.84663267]\n",
      " [0.18709102 0.81290898]\n",
      " [0.25946441 0.74053559]\n",
      " [0.12964723 0.87035277]\n",
      " [0.16061914 0.83938086]\n",
      " [0.13732054 0.86267946]\n",
      " [0.33637124 0.66362876]\n",
      " [0.09328284 0.90671716]\n",
      " [0.12943694 0.87056306]\n",
      " [0.07419205 0.92580795]\n",
      " [0.15613157 0.84386843]\n",
      " [0.10121861 0.89878139]\n",
      " [0.08760499 0.91239501]\n",
      " [0.20132374 0.79867626]\n",
      " [0.35947408 0.64052592]\n",
      " [0.1531606  0.8468394 ]\n",
      " [0.24496815 0.75503185]\n",
      " [0.1473546  0.8526454 ]\n",
      " [0.00748566 0.99251434]\n",
      " [0.13861779 0.86138221]\n",
      " [0.11859855 0.88140145]\n",
      " [0.17242917 0.82757083]\n",
      " [0.06972921 0.93027079]\n",
      " [0.1269256  0.8730744 ]\n",
      " [0.111976   0.888024  ]\n",
      " [0.16246692 0.83753308]\n",
      " [0.13518972 0.86481028]\n",
      " [0.13484447 0.86515553]\n",
      " [0.10245206 0.89754794]\n",
      " [0.21590911 0.78409089]\n",
      " [0.20834891 0.79165109]\n",
      " [0.11611881 0.88388119]\n",
      " [0.34581063 0.65418937]\n",
      " [0.05940615 0.94059385]\n",
      " [0.10086562 0.89913438]\n",
      " [0.274744   0.725256  ]\n",
      " [0.30914505 0.69085495]\n",
      " [0.12408369 0.87591631]\n",
      " [0.13437748 0.86562252]\n",
      " [0.0249112  0.9750888 ]\n",
      " [0.13734869 0.86265131]\n",
      " [0.45963959 0.54036041]\n",
      " [0.08697717 0.91302283]\n",
      " [0.25390428 0.74609572]\n",
      " [0.13241854 0.86758146]\n",
      " [0.11147246 0.88852754]\n",
      " [0.12088282 0.87911718]\n",
      " [0.14335039 0.85664961]\n",
      " [0.22718047 0.77281953]\n",
      " [0.19286012 0.80713988]\n",
      " [0.14714496 0.85285504]\n",
      " [0.22404455 0.77595545]\n",
      " [0.29590151 0.70409849]\n",
      " [0.11028344 0.88971656]\n",
      " [0.51036956 0.48963044]\n",
      " [0.07629344 0.92370656]\n",
      " [0.24427695 0.75572305]\n",
      " [0.32211169 0.67788831]\n",
      " [0.08698995 0.91301005]\n",
      " [0.05970784 0.94029216]\n",
      " [0.11990206 0.88009794]\n",
      " [0.11408825 0.88591175]\n",
      " [0.04343167 0.95656833]\n",
      " [0.10090573 0.89909427]\n",
      " [0.05215349 0.94784651]\n",
      " [0.16744232 0.83255768]\n",
      " [0.12177857 0.87822143]\n",
      " [0.18054207 0.81945793]\n",
      " [0.18331219 0.81668781]\n",
      " [0.04963825 0.95036175]\n",
      " [0.13059861 0.86940139]\n",
      " [0.09458396 0.90541604]\n",
      " [0.16338809 0.83661191]\n",
      " [0.15416358 0.84583642]\n",
      " [0.20692026 0.79307974]\n",
      " [0.18191879 0.81808121]\n",
      " [0.18401597 0.81598403]\n",
      " [0.16322451 0.83677549]\n",
      " [0.08556964 0.91443036]\n",
      " [0.08466912 0.91533088]\n",
      " [0.31496566 0.68503434]\n",
      " [0.00926239 0.99073761]\n",
      " [0.23205001 0.76794999]\n",
      " [0.20128083 0.79871917]\n",
      " [0.26823173 0.73176827]\n",
      " [0.32534832 0.67465168]\n",
      " [0.20287551 0.79712449]\n",
      " [0.15064382 0.84935618]\n",
      " [0.13532917 0.86467083]\n",
      " [0.14155846 0.85844154]\n",
      " [0.15466734 0.84533266]\n",
      " [0.16961195 0.83038805]\n",
      " [0.07807241 0.92192759]\n",
      " [0.16810281 0.83189719]\n",
      " [0.02292445 0.97707555]\n",
      " [0.09581759 0.90418241]\n",
      " [0.07308795 0.92691205]\n",
      " [0.15202647 0.84797353]\n",
      " [0.23287433 0.76712567]\n",
      " [0.05104839 0.94895161]\n",
      " [0.05217908 0.94782092]\n",
      " [0.24818507 0.75181493]\n",
      " [0.12119531 0.87880469]\n",
      " [0.19229214 0.80770786]\n",
      " [0.06135695 0.93864305]\n",
      " [0.1399151  0.8600849 ]\n",
      " [0.23943322 0.76056678]\n",
      " [0.09107522 0.90892478]\n",
      " [0.2459786  0.7540214 ]\n",
      " [0.05728154 0.94271846]\n",
      " [0.08172679 0.91827321]\n",
      " [0.09454871 0.90545129]\n",
      " [0.23120552 0.76879448]\n",
      " [0.07641858 0.92358142]\n",
      " [0.19294127 0.80705873]\n",
      " [0.0992047  0.9007953 ]\n",
      " [0.12066663 0.87933337]\n",
      " [0.19414319 0.80585681]\n",
      " [0.16849952 0.83150048]\n",
      " [0.46183253 0.53816747]\n",
      " [0.04968172 0.95031828]\n",
      " [0.26708112 0.73291888]\n",
      " [0.10817131 0.89182869]\n",
      " [0.19920148 0.80079852]\n",
      " [0.12260193 0.87739807]\n",
      " [0.03194766 0.96805234]\n",
      " [0.18258402 0.81741598]\n",
      " [0.13849905 0.86150095]\n",
      " [0.40592465 0.59407535]\n",
      " [0.17374265 0.82625735]\n",
      " [0.07465017 0.92534983]\n",
      " [0.18307798 0.81692202]\n",
      " [0.07413213 0.92586787]\n",
      " [0.10905389 0.89094611]\n",
      " [0.29928262 0.70071738]\n",
      " [0.17818106 0.82181894]\n",
      " [0.03410055 0.96589945]\n",
      " [0.13003011 0.86996989]\n",
      " [0.10081446 0.89918554]\n",
      " [0.11016201 0.88983799]\n",
      " [0.18567542 0.81432458]\n",
      " [0.14169957 0.85830043]\n",
      " [0.16121342 0.83878658]\n",
      " [0.15943421 0.84056579]\n",
      " [0.17338825 0.82661175]\n",
      " [0.05924827 0.94075173]\n",
      " [0.16816466 0.83183534]\n",
      " [0.2243865  0.7756135 ]\n",
      " [0.30600471 0.69399529]\n",
      " [0.14037872 0.85962128]\n",
      " [0.17486057 0.82513943]\n",
      " [0.15892288 0.84107712]\n",
      " [0.12808983 0.87191017]\n",
      " [0.10552343 0.89447657]\n",
      " [0.17054658 0.82945342]\n",
      " [0.27143225 0.72856775]\n",
      " [0.05307177 0.94692823]\n",
      " [0.03925699 0.96074301]\n",
      " [0.09499801 0.90500199]\n",
      " [0.11400007 0.88599993]\n",
      " [0.15134357 0.84865643]\n",
      " [0.20913034 0.79086966]\n",
      " [0.32697048 0.67302952]\n",
      " [0.06609788 0.93390212]\n",
      " [0.34355131 0.65644869]\n",
      " [0.25617159 0.74382841]\n",
      " [0.0575158  0.9424842 ]\n",
      " [0.21634318 0.78365682]\n",
      " [0.09344321 0.90655679]\n",
      " [0.18421272 0.81578728]\n",
      " [0.10850263 0.89149737]\n",
      " [0.14208126 0.85791874]\n",
      " [0.32546156 0.67453844]\n",
      " [0.06869599 0.93130401]\n",
      " [0.10000013 0.89999987]]\n"
     ]
    }
   ],
   "source": [
    "probs = model2.predict_proba(X_test)\n",
    "print (probs)"
   ]
  },
  {
   "cell_type": "code",
   "execution_count": 45,
   "metadata": {},
   "outputs": [
    {
     "name": "stdout",
     "output_type": "stream",
     "text": [
      "0.8435374149659864\n",
      "0.6502502887947632\n"
     ]
    }
   ],
   "source": [
    "from sklearn import metrics\n",
    "\n",
    "print (metrics.accuracy_score(y_test, predicted))\n",
    "print (metrics.roc_auc_score(y_test, probs[:, 1]))"
   ]
  },
  {
   "cell_type": "code",
   "execution_count": 46,
   "metadata": {},
   "outputs": [
    {
     "name": "stdout",
     "output_type": "stream",
     "text": [
      "[[  1  69]\n",
      " [  0 371]]\n",
      "              precision    recall  f1-score   support\n",
      "\n",
      "         1.0       1.00      0.01      0.03        70\n",
      "         2.0       0.84      1.00      0.91       371\n",
      "\n",
      "    accuracy                           0.84       441\n",
      "   macro avg       0.92      0.51      0.47       441\n",
      "weighted avg       0.87      0.84      0.77       441\n",
      "\n"
     ]
    }
   ],
   "source": [
    "print (metrics.confusion_matrix(y_test, predicted))\n",
    "print (metrics.classification_report(y_test, predicted))"
   ]
  },
  {
   "cell_type": "code",
   "execution_count": 47,
   "metadata": {},
   "outputs": [
    {
     "name": "stdout",
     "output_type": "stream",
     "text": [
      "      Intercept   Age  Department  DistanceFromHome  Education  \\\n",
      "338         1.0  30.0         2.0               5.0        3.0   \n",
      "363         1.0  33.0         2.0               5.0        3.0   \n",
      "759         1.0  45.0         3.0              24.0        4.0   \n",
      "793         1.0  28.0         1.0              15.0        2.0   \n",
      "581         1.0  30.0         1.0               1.0        3.0   \n",
      "...         ...   ...         ...               ...        ...   \n",
      "763         1.0  34.0         2.0              10.0        4.0   \n",
      "835         1.0  35.0         3.0               8.0        4.0   \n",
      "1216        1.0  43.0         2.0               2.0        3.0   \n",
      "559         1.0  38.0         1.0               2.0        5.0   \n",
      "684         1.0  40.0         2.0              10.0        4.0   \n",
      "\n",
      "      EducationField  YearsAtCompany  \n",
      "338              3.0            10.0  \n",
      "363              3.0             1.0  \n",
      "759              2.0             6.0  \n",
      "793              1.0             4.0  \n",
      "581              1.0             2.0  \n",
      "...              ...             ...  \n",
      "763              1.0             1.0  \n",
      "835              5.0             5.0  \n",
      "1216             2.0            10.0  \n",
      "559              2.0             1.0  \n",
      "684              3.0             1.0  \n",
      "\n",
      "[1029 rows x 7 columns]\n"
     ]
    }
   ],
   "source": [
    "print(X_train)"
   ]
  },
  {
   "cell_type": "code",
   "execution_count": 48,
   "metadata": {},
   "outputs": [
    {
     "name": "stdout",
     "output_type": "stream",
     "text": [
      "[[9.99999374e-01 6.25571966e-07]]\n"
     ]
    }
   ],
   "source": [
    "ksp=[[1.0, 23.0, 1.0, 500.0, 3.0, 24.0, 1.0]]\n",
    "print(model.predict_proba(ksp))"
   ]
  },
  {
   "cell_type": "code",
   "execution_count": null,
   "metadata": {},
   "outputs": [],
   "source": []
  }
 ],
 "metadata": {
  "kernelspec": {
   "display_name": "Python 3",
   "language": "python",
   "name": "python3"
  },
  "language_info": {
   "codemirror_mode": {
    "name": "ipython",
    "version": 3
   },
   "file_extension": ".py",
   "mimetype": "text/x-python",
   "name": "python",
   "nbconvert_exporter": "python",
   "pygments_lexer": "ipython3",
   "version": "3.8.3"
  }
 },
 "nbformat": 4,
 "nbformat_minor": 4
}
